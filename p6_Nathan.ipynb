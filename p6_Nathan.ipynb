{
 "cells": [
  {
   "cell_type": "code",
   "execution_count": 1,
   "metadata": {},
   "outputs": [],
   "source": [
    "import random\n",
    "\n",
    "# 1. Implementa un generador sucesos(p) que produce una secuencia infinita \n",
    "# de valores booleanos pseudoaletorios con probabilidad p de que sean True.\n",
    "\n",
    "def sucesos(s):\n",
    "    while True:\n",
    "        if random.random() < s:\n",
    "            yield True\n",
    "        else:\n",
    "            yield False\n"
   ]
  },
  {
   "cell_type": "code",
   "execution_count": 2,
   "metadata": {},
   "outputs": [],
   "source": [
    "# 2. Implementa un generador fibonacci(n) que produce los n primeros elementos de la serie de Fibonacci,\n",
    "# que tiene la forma  0, 1, 1, 2, 3, 5, 8, 13, ... los dos primeros valores son 0 y 1 \n",
    "# por definición y el resto se calculan sumando los dos últimos valores de la sucesión.\n",
    "\n",
    "def fibonacci(n):\n",
    "    a, b = 1, 0\n",
    "    for i in range(n): \n",
    "        yield a\n",
    "        temp = a\n",
    "        a = b\n",
    "        b = temp + b\n",
    "   "
   ]
  },
  {
   "cell_type": "code",
   "execution_count": 3,
   "metadata": {},
   "outputs": [],
   "source": [
    "# 3. Implementa un generador primos(n) que genere los primeros n primos. Por eficiencia, el generador \n",
    "# debe ir almacenando los primos encontrados hasta el momento en una lista.\n",
    "\n",
    "def primos(n):\n",
    "    contador = 0\n",
    "    num = 2\n",
    "    while contador < n:\n",
    "        primo = True\n",
    "        for i in range(2, num):\n",
    "            if num % i == 0:\n",
    "                primo = False\n",
    "                break\n",
    "        if primo:\n",
    "            yield num\n",
    "            contador += 1\n",
    "        num += 1\n"
   ]
  },
  {
   "cell_type": "code",
   "execution_count": 4,
   "metadata": {},
   "outputs": [
    {
     "name": "stdout",
     "output_type": "stream",
     "text": [
      "Números impares:  [1, 3, 5, 7, 9]\n"
     ]
    }
   ],
   "source": [
    "# 4. Filtrar números impares de una lista usando la función integrada filter() y una función lambda. \n",
    "# Recuerde que la sintaxis de filter es filter(function, iterable). En la misma, \"function\" opera \n",
    "# sobre \" iterable\" y filter() devuelve un iterador que contendrá a todos los elementos del iterable que \n",
    "# pasen la condición de function.\n",
    "\n",
    "lista = [1, 2, 3, 4, 5, 6, 7, 8, 9]\n",
    "impares = list(filter(lambda x: x % 2 != 0, lista))\n",
    "\n",
    "print(f\"Números impares:  {impares}\")\n"
   ]
  },
  {
   "cell_type": "code",
   "execution_count": 5,
   "metadata": {},
   "outputs": [],
   "source": [
    "# 5. Crear dos funciones anónimas:\n",
    "#       - Una recibe el valor en Fahrenheit y retorna el valor en Celsius\n",
    "#       - Otra recibe el valor en Celsius y retorna el valor en Fahrenheit\n",
    "\n",
    "fahrenheit_to_celsius = lambda fahrenheit: (fahrenheit - 32) * 5/9\n",
    "celsius_to_fahrenheit = lambda celsius: (celsius * 9/5) + 32\n"
   ]
  },
  {
   "cell_type": "code",
   "execution_count": 7,
   "metadata": {},
   "outputs": [
    {
     "name": "stdout",
     "output_type": "stream",
     "text": [
      "Arreglo original:  [1 2 3 4]\n",
      "Arreglo convertido a flotante:  [1. 2. 3. 4.]\n"
     ]
    }
   ],
   "source": [
    "import numpy as np\n",
    "\n",
    "\n",
    "\n",
    "array1 = np.array([1, 2, 3, 4])\n",
    "print(\"Arreglo original: \", array1)\n",
    "\n",
    "\n",
    "array1_float = array1.astype(float)\n",
    "print(\"Arreglo convertido a flotante: \", array1_float)\n",
    "\n",
    "\n",
    "\n",
    "import numpy as np \n",
    "array1 = np.array([0, 10, 20, 40, 60]) \n",
    "print(\"Array1: \",array1) \n",
    "array2 = [0, 40] \n",
    "print(\"Array2: \",array2) \n",
    "print(\"Compara cada elemento del array 1 y array 2\") \n",
    "______________"
   ]
  },
  {
   "cell_type": "markdown",
   "metadata": {},
   "source": [
    "EJERCICIOS\n",
    "\n",
    "Generadores\n",
    "\n",
    "1- Implementa un generador sucesos(p) que produce una secuencia infinita de valores booleanos pseudoaletorios con probabilidad p de que sean True.\n",
    "\n",
    "2- Implementa un generador fibonacci(n) que produce los n primeros elementos de la serie de Fibonacci, que tiene la forma  0, 1, 1, 2, 3, 5, 8, 13, ... los dos primeros valores son 0 y 1 por definición y el resto se calculan sumando los dos últimos valores de la sucesión.\n",
    "3- Implementa un generador primos(n) que genere los primeros n primos. Por eficiencia, el generador debe ir almacenando los primos encontrados hasta el momento en una lista.\n",
    "\n",
    "Funciones lambda\n",
    "\n",
    "Presentación PowerPoint funciones lambdaDownload Presentación PowerPoint funciones lambda\n",
    "\n",
    "Notebook con ejemplos de funciones lambda aplicadas a analítica de datosDownload Notebook con ejemplos de funciones lambda aplicadas a analítica de datos\n",
    "\n",
    "4- Filtrar números impares de una lista usando la función integrada filter() y una función lambda. Recuerde que la sintaxis de filter es filter(function, iterable). En la misma, \"function\" opera sobre \" iterable\" y filter() devuelve un iterador que contendrá a todos los elementos del iterable que pasen la condición de function. Puede ver ejemplos en https://www.simplilearn.com/tutorials/python-tutorial/filter-in-python#:~:text=Filter()%20is%20a%20built,that%20you%20provide%20very%20efficiently (Enlaces a un sitio externo.). \n",
    "\n",
    "5- Crear dos funciones anónimas:\n",
    "\n",
    "Una recibe el valor en Fahrenheit y retorna el valor en Celsius\n",
    "Otra recibe el valor en Celsius y retorna el valor en Fahrenheit\n",
    " \n",
    "\n",
    "EXTRA: Ver uso de map(), reduce(), zip(), etc. en https://pythondiario.com/2018/07/ejercicios-en-python-con-funciones.html (Enlaces a un sitio externo.) \n",
    "\n",
    "Subir el archivo de código resultante de su práctica en la clase. Recuerde añadir celdas markdown o comentarios que expliquen el código del .py o el notebook. Las funciones deben tener su docstring."
   ]
  }
 ],
 "metadata": {
  "kernelspec": {
   "display_name": "Python 3",
   "language": "python",
   "name": "python3"
  },
  "language_info": {
   "codemirror_mode": {
    "name": "ipython",
    "version": 3
   },
   "file_extension": ".py",
   "mimetype": "text/x-python",
   "name": "python",
   "nbconvert_exporter": "python",
   "pygments_lexer": "ipython3",
   "version": "3.11.6"
  },
  "orig_nbformat": 4
 },
 "nbformat": 4,
 "nbformat_minor": 2
}
